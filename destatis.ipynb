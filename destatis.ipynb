{
 "cells": [
  {
   "cell_type": "code",
   "execution_count": null,
   "id": "c05ebe2a-603b-4640-aeef-7e2c214c80b0",
   "metadata": {},
   "outputs": [],
   "source": [
    "import requests\n",
    "import pandas"
   ]
  },
  {
   "cell_type": "code",
   "execution_count": null,
   "id": "c3f18719-5971-44cb-b012-46256997dc77",
   "metadata": {},
   "outputs": [],
   "source": [
    "login = 'myusername'"
   ]
  },
  {
   "cell_type": "code",
   "execution_count": null,
   "id": "de08e5fe-1dea-40b5-a982-4f23e90da681",
   "metadata": {},
   "outputs": [],
   "source": [
    "psswd = 'mypassword'"
   ]
  },
  {
   "cell_type": "markdown",
   "id": "758fa4d2-9462-4f5e-9d19-72accd3a09ba",
   "metadata": {},
   "source": [
    "## Test"
   ]
  },
  {
   "cell_type": "code",
   "execution_count": null,
   "id": "3d25d7d2-cddf-4a33-bfd2-73f818832b47",
   "metadata": {},
   "outputs": [],
   "source": [
    "r = requests.get('https://www-genesis.destatis.de/genesisWS/rest/2020/helloworld/whoami')\n",
    "r.json()"
   ]
  },
  {
   "cell_type": "code",
   "execution_count": null,
   "id": "981e4095-9c88-48d7-abfe-197f4fd567ee",
   "metadata": {},
   "outputs": [],
   "source": [
    "parameter = {'username': login, 'password': psswd}\n",
    "r = requests.get('https://www-genesis.destatis.de/genesisWS/rest/2020/helloworld/logincheck', params=parameter)\n",
    "r.json()"
   ]
  },
  {
   "cell_type": "markdown",
   "id": "f1855835-7744-461a-8e3b-9d602285cf39",
   "metadata": {},
   "source": [
    "## Versuch die Daten zu finden"
   ]
  },
  {
   "cell_type": "markdown",
   "id": "d54d64e4-49c3-42f9-89d6-853d33987e84",
   "metadata": {},
   "source": [
    "### finde Einträge für Bodenfläche"
   ]
  },
  {
   "cell_type": "code",
   "execution_count": null,
   "id": "6abe6ace-c967-4768-89db-e20da750ede3",
   "metadata": {},
   "outputs": [],
   "source": [
    "parameter = {'username': login, 'password': psswd, 'term': 'Bodenfläche'}\n",
    "r = requests.get('https://www-genesis.destatis.de/genesisWS/rest/2020/find/find', params=parameter)\n",
    "r.json()"
   ]
  },
  {
   "cell_type": "markdown",
   "id": "098af79c-64a1-448e-8d78-72c30728745b",
   "metadata": {},
   "source": [
    "### finde Einträge zum ADV-Nutzungskatalog"
   ]
  },
  {
   "cell_type": "code",
   "execution_count": null,
   "id": "19d87600-425e-4df7-8595-2dba1e755698",
   "metadata": {},
   "outputs": [],
   "source": [
    "parameter = {'username': login, 'password': psswd, 'term': 'Nutzungsarten (AdV-Nutzungsartenkatalog 2009)'}\n",
    "r = requests.get('https://www-genesis.destatis.de/genesisWS/rest/2020/find/find', params=parameter)\n",
    "r.json()"
   ]
  },
  {
   "cell_type": "markdown",
   "id": "57face1c-b65a-44fc-8407-838cf001cd17",
   "metadata": {},
   "source": [
    "### Bundesländer"
   ]
  },
  {
   "cell_type": "code",
   "execution_count": null,
   "id": "076f677a-bb2a-4e8c-9204-544064d61102",
   "metadata": {},
   "outputs": [],
   "source": [
    "parameter = {'username': login, 'password': psswd, 'term': 'Bundesländer', 'category': 'variables'}\n",
    "r = requests.get('https://www-genesis.destatis.de/genesisWS/rest/2020/find/find', params=parameter)\n",
    "r.json()"
   ]
  },
  {
   "cell_type": "markdown",
   "id": "ef169fb4-72bd-403d-860a-03497951f80b",
   "metadata": {},
   "source": [
    "### finde Variableausprägung für ADV Nutzungskatalog"
   ]
  },
  {
   "cell_type": "code",
   "execution_count": null,
   "id": "8a84b02d-a2df-401f-a68f-46bb26d70b59",
   "metadata": {},
   "outputs": [],
   "source": [
    "parameter = {'username': login, 'password': psswd, 'name': 'ADV09A'}\n",
    "r = requests.get('https://www-genesis.destatis.de/genesisWS/rest/2020/catalogue/values2variable', params=parameter)\n",
    "r.json()"
   ]
  },
  {
   "cell_type": "markdown",
   "id": "39b0105a-3b82-42f1-bda5-83507ed5ad3f",
   "metadata": {},
   "source": [
    "## Versuch die Daten zu holen"
   ]
  },
  {
   "cell_type": "markdown",
   "id": "50c2ee94-adb5-4059-bd74-d2e9b35899d2",
   "metadata": {},
   "source": [
    "### Nutzung nach 2016"
   ]
  },
  {
   "cell_type": "code",
   "execution_count": null,
   "id": "8ee68340-6cf1-43a5-ab8d-506da2a74775",
   "metadata": {},
   "outputs": [],
   "source": [
    "parameter = {'username': login, 'password': psswd, 'name': '33111LJ005'}\n",
    "r = requests.get('https://www-genesis.destatis.de/genesisWS/rest/2020/data/cube', params=parameter)\n",
    "r.json()"
   ]
  },
  {
   "cell_type": "code",
   "execution_count": null,
   "id": "8c901053-7b2a-4469-ba54-af8e5f193d98",
   "metadata": {},
   "outputs": [],
   "source": [
    "pandas.read_json(r.json())"
   ]
  },
  {
   "cell_type": "markdown",
   "id": "20c137f4-c6bf-4cb3-b3d0-78865c6f01f8",
   "metadata": {},
   "source": [
    "-> transform necessary to load nested json into dataframe"
   ]
  },
  {
   "cell_type": "code",
   "execution_count": null,
   "id": "7b362c0e-ee08-463a-b7a3-a5a3450702dd",
   "metadata": {},
   "outputs": [],
   "source": []
  },
  {
   "cell_type": "code",
   "execution_count": null,
   "id": "f5357b6f-42ec-483b-a400-dc148a114abc",
   "metadata": {},
   "outputs": [],
   "source": []
  }
 ],
 "metadata": {
  "kernelspec": {
   "display_name": "Python 3 (ipykernel)",
   "language": "python",
   "name": "python3"
  },
  "language_info": {
   "codemirror_mode": {
    "name": "ipython",
    "version": 3
   },
   "file_extension": ".py",
   "mimetype": "text/x-python",
   "name": "python",
   "nbconvert_exporter": "python",
   "pygments_lexer": "ipython3",
   "version": "3.7.12"
  }
 },
 "nbformat": 4,
 "nbformat_minor": 5
}
